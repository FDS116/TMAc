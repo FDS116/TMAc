{
  "cells": [
    {
      "cell_type": "markdown",
      "metadata": {
        "id": "view-in-github",
        "colab_type": "text"
      },
      "source": [
        "<a href=\"https://colab.research.google.com/github/FDS116/TMAc/blob/main/TMAc.ipynb\" target=\"_parent\"><img src=\"https://colab.research.google.com/assets/colab-badge.svg\" alt=\"Open In Colab\"/></a>"
      ]
    },
    {
      "cell_type": "markdown",
      "source": [
        "# Library loading and data reading"
      ],
      "metadata": {
        "id": "g3VPNDl8Lp48"
      }
    },
    {
      "cell_type": "code",
      "execution_count": 1,
      "metadata": {
        "id": "q0JH58ubCAdM"
      },
      "outputs": [],
      "source": [
        "#Data reading\n",
        "import pandas as pd\n",
        "#Data partition\n",
        "from sklearn.model_selection import train_test_split, cross_val_score, cross_val_predict, KFold\n",
        "import numpy as np\n",
        "#Metrics\n",
        "from sklearn.metrics import r2_score, mean_absolute_error, mean_absolute_percentage_error, mean_squared_error\n",
        "#MLR\n",
        "from sklearn.linear_model import LinearRegression, Ridge, Lasso\n",
        "#SVR\n",
        "from sklearn.svm import SVR\n",
        "#Graphics\n",
        "import matplotlib.pyplot as plt\n",
        "import matplotlib as mpl\n",
        "from scipy.stats import linregress\n",
        "#Excel\n",
        "from pandas import ExcelWriter"
      ]
    },
    {
      "cell_type": "code",
      "execution_count": null,
      "metadata": {
        "id": "FGZbKt-NEBSm"
      },
      "outputs": [],
      "source": [
        "#Data reding\n",
        "Datos=pd.read_csv(\"/content/drive/MyDrive/phyton/Articulo_Dr_gas (1).csv\")"
      ]
    },
    {
      "cell_type": "code",
      "execution_count": null,
      "metadata": {
        "id": "slHb8EfsEGeP"
      },
      "outputs": [],
      "source": [
        "pd.set_option(\"display.max_rows\", None)\n",
        "Datos"
      ]
    },
    {
      "cell_type": "code",
      "execution_count": null,
      "metadata": {
        "id": "0j5fYqJlEfwF"
      },
      "outputs": [],
      "source": [
        "Datos.info()"
      ]
    },
    {
      "cell_type": "code",
      "execution_count": null,
      "metadata": {
        "id": "R85IiVBGEiao"
      },
      "outputs": [],
      "source": [
        "#Obtain variables\n",
        "X=Datos.iloc[:,4:53]\n",
        "y=Datos.iloc[:-3, 2]"
      ]
    },
    {
      "cell_type": "code",
      "execution_count": null,
      "metadata": {
        "id": "7vGYZ6LjEkyP"
      },
      "outputs": [],
      "source": [
        "#Obtener Dummy variables\n",
        "Dummies=pd.get_dummies(X[[\"Correction 1\", \"Correction 2\",\"Correction 3\",\"Correction 4\"]])\n",
        "Dummies.head(2)"
      ]
    },
    {
      "cell_type": "code",
      "execution_count": null,
      "metadata": {
        "id": "t2PhehxnEq-Q"
      },
      "outputs": [],
      "source": [
        "#Eliminate categorical variables\n",
        "X=X.drop([\"Correction 1\", \"Correction 2\",\"Correction 3\",\"Correction 4\"], axis=1)\n",
        "X.head()"
      ]
    },
    {
      "cell_type": "code",
      "execution_count": null,
      "metadata": {
        "id": "Tu8At1bXEt-y"
      },
      "outputs": [],
      "source": [
        "#Concatenating dummy variables with predictor variables\n",
        "Predictors=pd.concat([X,Dummies], axis=1)\n",
        "Predictors.head()"
      ]
    },
    {
      "cell_type": "code",
      "source": [
        "TMAc=Predictors.iloc[:-3,:]\n",
        "Isomers=Predictors.iloc[55:,:]"
      ],
      "metadata": {
        "id": "yJ-aIauq-s0u"
      },
      "execution_count": null,
      "outputs": []
    },
    {
      "cell_type": "markdown",
      "source": [
        "# Multiple Linear Regression"
      ],
      "metadata": {
        "id": "boWu6iF0MCS0"
      }
    },
    {
      "cell_type": "code",
      "execution_count": null,
      "metadata": {
        "id": "uGG5HdkCEwPF"
      },
      "outputs": [],
      "source": [
        "#Divide the set into training and test\n",
        "X_train, X_test, y_train, y_test = train_test_split(TMAc, y, test_size=0.3, random_state=98)"
      ]
    },
    {
      "cell_type": "code",
      "execution_count": null,
      "metadata": {
        "id": "wFy8tteIFR4J"
      },
      "outputs": [],
      "source": [
        "#MLR\n",
        "modelo_mlr=LinearRegression().fit(X_train, y_train)\n",
        "print(modelo_mlr.score(X_train,y_train))\n",
        "print(modelo_mlr.score(X_test,y_test))"
      ]
    },
    {
      "cell_type": "code",
      "execution_count": null,
      "metadata": {
        "id": "iQghFF1kFrZe"
      },
      "outputs": [],
      "source": [
        "#Results prediction\n",
        "y_predict_train=modelo_mlr.predict(X_train)\n",
        "y_predict_test=modelo_mlr.predict(X_test)\n",
        "y_pred_hermanos=modelo_mlr.predict(Isomers)\n",
        "print(np.round(y_pred_hermanos,1))"
      ]
    },
    {
      "cell_type": "code",
      "execution_count": null,
      "metadata": {
        "id": "vHjVmSONF_E4"
      },
      "outputs": [],
      "source": [
        "#Comparison of test results\n",
        "Comparison=pd.DataFrame(data=list(zip(y_test,y_predict_test.round(1))), columns=[\"Test\", \"Predict\"])\n",
        "print(Comparison)\n",
        "Comparison=Comparison[[\"Test\",\"Predict\"]]\n",
        "writer = ExcelWriter('Benson.xlsx')\n",
        "Comparison.to_excel(writer, 'Hoja de datos', index=False)\n",
        "writer.save()"
      ]
    },
    {
      "cell_type": "code",
      "execution_count": null,
      "metadata": {
        "id": "HX4yP44eGlw-"
      },
      "outputs": [],
      "source": [
        "#Comparison of train results\n",
        "Comparison_train=pd.DataFrame(data=list(zip(y_train,y_predict_train.round(1))), columns=[\"Train\", \"Predict\"])\n",
        "print(Comparison_train)\n",
        "Comparison_train=Comparison_train[[\"Train\",\"Predict\"]]\n",
        "writer = ExcelWriter('Benson_prueba.xlsx')\n",
        "Comparison_train.to_excel(writer, 'Hoja de datos', index=False)\n",
        "writer.save()"
      ]
    },
    {
      "cell_type": "code",
      "source": [
        "#Updated value of Benson's groups\n",
        "Benson=pd.DataFrame(data=list(zip(TMAc, (modelo_mlr.coef_).round(2))), columns=[\"Functional group\", \"Value\"])\n",
        "print(Benson)\n",
        "Benson= Benson[[\"Functional group\", \"Value\"]]\n",
        "writer = ExcelWriter('Grupos Benson.xlsx')\n",
        "Benson.to_excel(writer, 'Hoja de datos', index=False)\n",
        "writer.save()"
      ],
      "metadata": {
        "id": "tQ-74f0Y8-VA"
      },
      "execution_count": null,
      "outputs": []
    },
    {
      "cell_type": "code",
      "source": [
        "#Intercept of regression\n",
        "(modelo_mlr.intercept_).round(2)"
      ],
      "metadata": {
        "id": "vovMw-ni9R7t"
      },
      "execution_count": null,
      "outputs": []
    },
    {
      "cell_type": "code",
      "execution_count": null,
      "metadata": {
        "id": "vROrJD3rHnv5"
      },
      "outputs": [],
      "source": [
        "#Graph for the training set\n",
        "m1,b1,r1,s1,p1=linregress(y_train, y_predict_train)\n",
        "plt.style.use(\"bmh\")\n",
        "plt.plot(y_train, m1*y_train+b1, \"b--\", label=\"Fit\")\n",
        "plt.plot(y_train,y_predict_train, \"ro\", markersize=8, label=\"Training set\")\n",
        "plt.plot(y_train,y_train, \"k-\", label=\"Perfect fit\")\n",
        "plt.tick_params(labelsize=15)\n",
        "plt.xticks(np.arange(300,1150,200))\n",
        "plt.yticks(np.arange(300,1150,200))\n",
        "plt.xlim(250, 1150)\n",
        "plt.ylim(250, 1150)\n",
        "plt.legend(loc=\"best\", prop={\"size\":14}, frameon=False)\n",
        "plt.title(\"MLR\", size=15)\n",
        "plt.xlabel(\"Experimental value (kJ mol$^{-1})$\", size=15)\n",
        "plt.ylabel(\"Predicted value (kJ mol$^{-1})$\", size=15)\n",
        "plt.text(750,450, r\"$r^2$: {}\".format(round(r1**2,4)), size=15)\n",
        "plt.show()"
      ]
    },
    {
      "cell_type": "code",
      "execution_count": null,
      "metadata": {
        "id": "z1lRmEeuH7na"
      },
      "outputs": [],
      "source": [
        "#Graph for the testing set\n",
        "m2,b2,r2,s2,p2=linregress(y_test, y_predict_test)\n",
        "plt.style.use(\"bmh\")\n",
        "plt.plot(y_test, m2*y_test+b2, \"b--\", label=\"Fit\")\n",
        "plt.plot(y_test,y_predict_test, \"ro\", markersize=8, label=\"Testing set\")\n",
        "plt.plot(y_test,y_test,\"k-\", label=\"Perfect fit\")\n",
        "plt.tick_params(labelsize=15)\n",
        "plt.xticks(np.arange(250,1100,200))\n",
        "plt.yticks(np.arange(250,1100,200))\n",
        "plt.xlim(200, 1100)\n",
        "plt.ylim(200, 1100)\n",
        "plt.legend(loc=\"best\", prop={\"size\":15}, frameon=False)\n",
        "plt.title(\"MLR\", size=15)\n",
        "plt.xlabel(\"Experimental value (kJ mol$^{-1}$)\", size=15)\n",
        "plt.ylabel(\"Predicted value (kJ mol$^{-1}$)\", size=15)\n",
        "plt.text(650,350, r\"$r^2$: {}\".format(round(r2**2,4)), size=15)\n",
        "plt.show()"
      ]
    },
    {
      "cell_type": "code",
      "execution_count": null,
      "metadata": {
        "id": "y0u0lB8gIQC0"
      },
      "outputs": [],
      "source": [
        "#Metrics of the MLR's model\n",
        "print(\"The R2 value for the training set of the regression is: {}\".format(r2_score(y_train,y_predict_train).round(4)))\n",
        "print(\"The R2 value for the testing set of the regression is: {}\".format(r2_score(y_test,y_predict_test).round(4)))\n",
        "print(\"The MAE value for the training set of the regression is: {}\".format(mean_absolute_error(y_train,y_predict_train).round(4)))\n",
        "print(\"The MAE value for the testing set of the regression is: {}\".format(mean_absolute_error(y_test,y_predict_test).round(4)))\n",
        "print(\"The RMSE value for the training set of the regression is: {}\".format(mean_squared_error(y_train,y_predict_train, squared=False).round(4)))\n",
        "print(\"The RMSE value for the training set of the regression is: {}\".format(mean_squared_error(y_test,y_predict_test, squared=False).round(4)))"
      ]
    },
    {
      "cell_type": "markdown",
      "source": [
        "# Ridge Regression"
      ],
      "metadata": {
        "id": "igS9p8iBNWVA"
      }
    },
    {
      "cell_type": "code",
      "source": [
        "#Find the best alpha value\n",
        "R2_train_ridge=[]\n",
        "R2_test_ridge=[]\n",
        "Alpha=[]\n",
        "for i in np.arange(0.1,10.1,0.1):\n",
        "  modelo_ridge=Ridge(alpha=i).fit(X_train, y_train)\n",
        "  R2_train_ridge.append(modelo_ridge.score(X_train, y_train))\n",
        "  R2_test_ridge.append(modelo_ridge.score(X_test,y_test))\n",
        "  Alpha.append(i)"
      ],
      "metadata": {
        "id": "mTCECDdssiyL"
      },
      "execution_count": null,
      "outputs": []
    },
    {
      "cell_type": "code",
      "source": [
        "#Ridge Regression\n",
        "modelo_ridge=Ridge(alpha=1.0).fit(X_train, y_train)\n",
        "print(modelo_ridge.score(X_train, y_train))\n",
        "print(modelo_ridge.score(X_test, y_test))"
      ],
      "metadata": {
        "id": "JLy2wCfWsCr_"
      },
      "execution_count": null,
      "outputs": []
    },
    {
      "cell_type": "code",
      "source": [
        "#Results prediction\n",
        "y_predict_train_ridge=modelo_ridge.predict(X_train)\n",
        "y_predict_test_ridge=modelo_ridge.predict(X_test)"
      ],
      "metadata": {
        "id": "LD5gh3KwuM_B"
      },
      "execution_count": null,
      "outputs": []
    },
    {
      "cell_type": "code",
      "source": [
        "#Comparison of results\n",
        "Results_Ridge=pd.DataFrame(data=list(zip(y_train,y_predict_train_ridge.round(1),y_test,y_predict_test_ridge.round(1))),\n",
        "                              columns=[\"train\", \"Predict train\",\"Test\", \"Predict test\"])\n",
        "print(Results_Ridge)"
      ],
      "metadata": {
        "id": "m5Z99WOBua18"
      },
      "execution_count": null,
      "outputs": []
    },
    {
      "cell_type": "markdown",
      "source": [
        "#Lasso Regression"
      ],
      "metadata": {
        "id": "3gZ_9yXRN7CP"
      }
    },
    {
      "cell_type": "code",
      "source": [
        "#Find the best Alpha value\n",
        "R2_train_lasso=[]\n",
        "R2_test_lasso=[]\n",
        "Alpha_lasso=[]\n",
        "for i in np.arange(0.1,10.1,0.1):\n",
        "  modelo_lasso=Lasso(alpha=i).fit(X_train,y_train)\n",
        "  R2_train_lasso.append(modelo_lasso.score(X_train,y_train))\n",
        "  R2_test_lasso.append(modelo_lasso.score(X_test,y_test))\n",
        "  Alpha_lasso.append(i)"
      ],
      "metadata": {
        "id": "zR8j7rlWzejF"
      },
      "execution_count": null,
      "outputs": []
    },
    {
      "cell_type": "code",
      "source": [
        "#Lasso Regression\n",
        "modelo_lasso=Lasso(alpha=0.5).fit(X_train,y_train)\n",
        "print(modelo_lasso.score(X_train,y_train))\n",
        "print(modelo_lasso.score(X_test,y_test))"
      ],
      "metadata": {
        "id": "244XNKKyzHrx"
      },
      "execution_count": null,
      "outputs": []
    },
    {
      "cell_type": "code",
      "source": [
        "#Results prediction\n",
        "y_predict_train_lasso=modelo_lasso.predict(X_train)\n",
        "y_predict_test_lasso=modelo_lasso.predict(X_test)"
      ],
      "metadata": {
        "id": "rQBqU-xq0-oL"
      },
      "execution_count": null,
      "outputs": []
    },
    {
      "cell_type": "code",
      "source": [
        "#Comparison of Results\n",
        "Resultados_lasso=pd.DataFrame(data=list(zip(y_train,y_predict_train_lasso.round(1),y_test,y_predict_test_lasso.round(1))),\n",
        "                              columns=[\"Train\",\"Predcit Train\", \"Test\", \"Predic Test\"])\n",
        "print(Resultados_lasso)"
      ],
      "metadata": {
        "id": "hFA-9cjU1P4q"
      },
      "execution_count": null,
      "outputs": []
    },
    {
      "cell_type": "code",
      "source": [
        "#Ridge and Lasso model comparison plot\n",
        "mpl.style.use(\"bmh\")\n",
        "f, (ax0, ax1)=plt.subplots(nrows=1,ncols=2,sharex=True,figsize=(15,5))\n",
        "ax0.plot(Alpha, R2_train_ridge, label=\"Train\")\n",
        "ax0.plot(Alpha, R2_test_ridge, label=\"Test\")\n",
        "ax0.set_title(\"Ridge Regression\")\n",
        "ax0.legend(loc=\"best\")\n",
        "ax0.set_ylabel(\"R$^2$\")\n",
        "ax0.set_xlabel(\"Alpha\")\n",
        "ax0.set_xticks(range(11))\n",
        "ax1.plot(Alpha, R2_train_lasso, label=\"Train\")\n",
        "ax1.plot(Alpha, R2_test_lasso, label=\"Test\")\n",
        "ax1.set_title(\"Lasso Regression\")\n",
        "ax1.legend(loc=\"best\")\n",
        "ax1.set_xlabel(\"Alpha\")\n",
        "ax1.set_xticks(range(11))\n",
        "plt.show()"
      ],
      "metadata": {
        "id": "U9v1Q0JSgOZp"
      },
      "execution_count": null,
      "outputs": []
    },
    {
      "cell_type": "markdown",
      "source": [
        "#SVR"
      ],
      "metadata": {
        "id": "Sdt9zId59QS-"
      }
    },
    {
      "cell_type": "code",
      "source": [
        "#Find the best C value\n",
        "C=[]\n",
        "R2_train=[]\n",
        "R2_test=[]\n",
        "for i in np.arange(800,5000,10):\n",
        "  modelo_svr=SVR(kernel=\"linear\", C=i).fit(X_train,y_train)\n",
        "  R2_train.append(modelo_svr.score(X_train,y_train))\n",
        "  R2_test.append(modelo_svr.score(X_test,y_test))\n",
        "  C.append(i)"
      ],
      "metadata": {
        "id": "peT_t5BJ9jrE"
      },
      "execution_count": null,
      "outputs": []
    },
    {
      "cell_type": "code",
      "source": [
        "#Graphic the C value\n",
        "plt.plot(C,R2_train, label=\"Train\")\n",
        "plt.plot(C,R2_test, label=\"Test\")\n",
        "plt.legend(loc=\"best\")\n",
        "plt.xlabel(\"C\")\n",
        "plt.ylabel(\"R$^2$\")\n",
        "plt.show()"
      ],
      "metadata": {
        "id": "nErtbnM2-F0Q"
      },
      "execution_count": null,
      "outputs": []
    },
    {
      "cell_type": "code",
      "source": [
        "#SVR\n",
        "modelo_svr=SVR(kernel=\"linear\", C=2000).fit(X_train,y_train)\n",
        "print(modelo_svr.score(X_train, y_train))\n",
        "print(modelo_svr.score(X_test,y_test))"
      ],
      "metadata": {
        "id": "U7YfpB3Z9Rie"
      },
      "execution_count": null,
      "outputs": []
    },
    {
      "cell_type": "code",
      "source": [
        "#Results prediction\n",
        "y_predict_train_svr=modelo_svr.predict(X_train)\n",
        "y_predict_test_svr=modelo_svr.predict(X_test)\n",
        "y_predict_hermanos_svr=modelo_svr.predict(Isomers)\n",
        "print(np.round(y_predict_hermanos_svr))"
      ],
      "metadata": {
        "id": "wwnqdZwC_FUh"
      },
      "execution_count": null,
      "outputs": []
    },
    {
      "cell_type": "code",
      "source": [
        "#Comparison of test results\n",
        "Comparison_svr=pd.DataFrame(data=list(zip(y_test,(y_predict_test_svr).round(1))),columns=[\"Tranin\", \"Predict\"])\n",
        "Comparison_svr"
      ],
      "metadata": {
        "id": "ZK0e5QYqbvaq"
      },
      "execution_count": null,
      "outputs": []
    },
    {
      "cell_type": "code",
      "execution_count": null,
      "metadata": {
        "id": "AzDyH6ixejYc"
      },
      "outputs": [],
      "source": [
        "#Graph for the training set\n",
        "m1,b1,r1,s1,p1=linregress(y_train, y_predict_train_svr)\n",
        "plt.style.use(\"bmh\")\n",
        "plt.plot(y_train, m1*y_train+b1, \"b--\", label=\"Fit\")\n",
        "plt.plot(y_train,y_predict_train_svr, \"ro\", markersize=8, label=\"Training set\")\n",
        "plt.plot(y_train,y_train, \"k-\", label=\"Perfect fit\")\n",
        "plt.tick_params(labelsize=15)\n",
        "plt.xticks(np.arange(300,1150,200))\n",
        "plt.yticks(np.arange(300,1150,200))\n",
        "plt.xlim(250, 1150)\n",
        "plt.ylim(250, 1150)\n",
        "plt.legend(loc=\"best\", prop={\"size\":14}, frameon=False)\n",
        "plt.title(\"SVR\", size=15)\n",
        "plt.xlabel(\"Experimental value (kJ mol$^{-1})$\", size=15)\n",
        "plt.ylabel(\"Predicted value (kJ mol$^{-1})$\", size=15)\n",
        "plt.text(750,450, r\"$r^2$: {}\".format(round(r1**2,4)), size=15)\n",
        "plt.show()"
      ]
    },
    {
      "cell_type": "code",
      "execution_count": null,
      "metadata": {
        "id": "mnXzmxFzejYd"
      },
      "outputs": [],
      "source": [
        "#Graph for the testing set \n",
        "m2,b2,r2,s2,p2=linregress(y_test, y_predict_test_svr)\n",
        "plt.style.use(\"bmh\")\n",
        "plt.plot(y_test, m2*y_test+b2, \"b--\", label=\"Fit\")\n",
        "plt.plot(y_test,y_predict_test_svr, \"ro\", markersize=8, label=\"Testing set\")\n",
        "plt.plot(y_test,y_test,\"k-\", label=\"Perfect fit\")\n",
        "plt.tick_params(labelsize=15)\n",
        "plt.xticks(np.arange(250,1100,200))\n",
        "plt.yticks(np.arange(250,1100,200))\n",
        "plt.xlim(200, 1100)\n",
        "plt.ylim(200, 1100)\n",
        "plt.legend(loc=\"best\", prop={\"size\":15}, frameon=False)\n",
        "plt.title(\"SVR\", size=15)\n",
        "plt.xlabel(\"Experimental value (kJ mol$^{-1}$)\", size=15)\n",
        "plt.ylabel(\"Predicted value (kJ mol$^{-1}$)\", size=15)\n",
        "plt.text(650,350, r\"$r^2$: {}\".format(round(r2**2,4)), size=15)\n",
        "plt.show()"
      ]
    },
    {
      "cell_type": "code",
      "source": [
        "#Metrics of the SVR\n",
        "print(\"The R2 value for the SVR regression in the training set is: {}\".format(r2_score(y_train,y_predict_train_svr).round(4)))\n",
        "print(\"The R2 value for the SVR regression in the testing set is: {}\".format(r2_score(y_test,y_predict_test_svr).round(4)))\n",
        "print(\"The MAE value for the SVR regression in the training set is: {}\".format(mean_absolute_error(y_train,y_predict_train_svr).round(4)))\n",
        "print(\"The MAE value for the SVR regression in the testing set is: {}\".format(mean_absolute_error(y_test, y_predict_test_svr).round(4)))\n",
        "print(\"The RMSE value for the SVR regression in the training set is: {}\".format(mean_squared_error(y_train,y_predict_train_svr,squared=False).round(4)))\n",
        "print(\"The RMSE value for the SVR regression in the testing set is: {}\".format(mean_squared_error(y_test,y_predict_test_svr,squared=False).round(4)))"
      ],
      "metadata": {
        "id": "f-uMBl1jdjZT"
      },
      "execution_count": null,
      "outputs": []
    }
  ],
  "metadata": {
    "colab": {
      "provenance": [],
      "include_colab_link": true
    },
    "kernelspec": {
      "display_name": "Python 3",
      "name": "python3"
    },
    "language_info": {
      "name": "python"
    }
  },
  "nbformat": 4,
  "nbformat_minor": 0
}